{
 "cells": [
  {
   "cell_type": "markdown",
   "metadata": {},
   "source": [
    "# Data Preprocessing"
   ]
  },
  {
   "cell_type": "code",
   "execution_count": 1,
   "metadata": {
    "collapsed": false
   },
   "outputs": [
    {
     "name": "stderr",
     "output_type": "stream",
     "text": [
      "//anaconda/envs/nanodegree/lib/python2.7/site-packages/matplotlib/font_manager.py:273: UserWarning: Matplotlib is building the font cache using fc-list. This may take a moment.\n",
      "  warnings.warn('Matplotlib is building the font cache using fc-list. This may take a moment.')\n",
      "//anaconda/envs/nanodegree/lib/python2.7/site-packages/sklearn/cross_validation.py:44: DeprecationWarning: This module was deprecated in version 0.18 in favor of the model_selection module into which all the refactored classes and functions are moved. Also note that the interface of the new CV iterators are different from that of this module. This module will be removed in 0.20.\n",
      "  \"This module will be removed in 0.20.\", DeprecationWarning)\n",
      "//anaconda/envs/nanodegree/lib/python2.7/site-packages/sklearn/grid_search.py:43: DeprecationWarning: This module was deprecated in version 0.18 in favor of the model_selection module into which all the refactored classes and functions are moved. This module will be removed in 0.20.\n",
      "  DeprecationWarning)\n"
     ]
    }
   ],
   "source": [
    "%matplotlib inline\n",
    "import pandas as pd\n",
    "import numpy as np\n",
    "import matplotlib.pyplot as plt\n",
    "import seaborn as sns\n",
    "import xgboost as xgb\n",
    "from sklearn import cross_validation, metrics\n",
    "from sklearn.cross_validation import KFold\n",
    "from sklearn.grid_search import GridSearchCV\n",
    "from xgboost.sklearn import XGBClassifier\n",
    "from sklearn.neural_network import MLPRegressor\n",
    "from sklearn.ensemble import RandomForestRegressor, ExtraTreesRegressor\n",
    "from sklearn.metrics import mean_absolute_error\n",
    "from sklearn.model_selection import train_test_split\n",
    "import random\n",
    "import datetime"
   ]
  },
  {
   "cell_type": "code",
   "execution_count": 2,
   "metadata": {
    "collapsed": false
   },
   "outputs": [],
   "source": [
    "train_ds = pd.read_csv('train.csv')\n",
    "test_ds = pd.read_csv('test.csv')"
   ]
  },
  {
   "cell_type": "code",
   "execution_count": 3,
   "metadata": {
    "collapsed": false
   },
   "outputs": [],
   "source": [
    "pd.options.display.max_columns\n",
    "np.set_printoptions(edgeitems=20)"
   ]
  },
  {
   "cell_type": "code",
   "execution_count": 4,
   "metadata": {
    "collapsed": false
   },
   "outputs": [
    {
     "name": "stdout",
     "output_type": "stream",
     "text": [
      "(188318, 132)\n",
      "(125546, 131)\n"
     ]
    }
   ],
   "source": [
    "print train_ds.shape\n",
    "print test_ds.shape\n",
    "n_train = train_ds.shape[0]\n",
    "n_test = test_ds.shape[0]"
   ]
  },
  {
   "cell_type": "code",
   "execution_count": 5,
   "metadata": {
    "collapsed": false
   },
   "outputs": [
    {
     "data": {
      "text/html": [
       "<div>\n",
       "<table border=\"1\" class=\"dataframe\">\n",
       "  <thead>\n",
       "    <tr style=\"text-align: right;\">\n",
       "      <th></th>\n",
       "      <th>id</th>\n",
       "      <th>cat1</th>\n",
       "      <th>cat2</th>\n",
       "      <th>cat3</th>\n",
       "      <th>cat4</th>\n",
       "      <th>cat5</th>\n",
       "      <th>cat6</th>\n",
       "      <th>cat7</th>\n",
       "      <th>cat8</th>\n",
       "      <th>cat9</th>\n",
       "      <th>...</th>\n",
       "      <th>cont6</th>\n",
       "      <th>cont7</th>\n",
       "      <th>cont8</th>\n",
       "      <th>cont9</th>\n",
       "      <th>cont10</th>\n",
       "      <th>cont11</th>\n",
       "      <th>cont12</th>\n",
       "      <th>cont13</th>\n",
       "      <th>cont14</th>\n",
       "      <th>loss</th>\n",
       "    </tr>\n",
       "  </thead>\n",
       "  <tbody>\n",
       "    <tr>\n",
       "      <th>0</th>\n",
       "      <td>1</td>\n",
       "      <td>A</td>\n",
       "      <td>B</td>\n",
       "      <td>A</td>\n",
       "      <td>B</td>\n",
       "      <td>A</td>\n",
       "      <td>A</td>\n",
       "      <td>A</td>\n",
       "      <td>A</td>\n",
       "      <td>B</td>\n",
       "      <td>...</td>\n",
       "      <td>0.718367</td>\n",
       "      <td>0.335060</td>\n",
       "      <td>0.30260</td>\n",
       "      <td>0.67135</td>\n",
       "      <td>0.83510</td>\n",
       "      <td>0.569745</td>\n",
       "      <td>0.594646</td>\n",
       "      <td>0.822493</td>\n",
       "      <td>0.714843</td>\n",
       "      <td>2213.18</td>\n",
       "    </tr>\n",
       "    <tr>\n",
       "      <th>1</th>\n",
       "      <td>2</td>\n",
       "      <td>A</td>\n",
       "      <td>B</td>\n",
       "      <td>A</td>\n",
       "      <td>A</td>\n",
       "      <td>A</td>\n",
       "      <td>A</td>\n",
       "      <td>A</td>\n",
       "      <td>A</td>\n",
       "      <td>B</td>\n",
       "      <td>...</td>\n",
       "      <td>0.438917</td>\n",
       "      <td>0.436585</td>\n",
       "      <td>0.60087</td>\n",
       "      <td>0.35127</td>\n",
       "      <td>0.43919</td>\n",
       "      <td>0.338312</td>\n",
       "      <td>0.366307</td>\n",
       "      <td>0.611431</td>\n",
       "      <td>0.304496</td>\n",
       "      <td>1283.60</td>\n",
       "    </tr>\n",
       "    <tr>\n",
       "      <th>2</th>\n",
       "      <td>5</td>\n",
       "      <td>A</td>\n",
       "      <td>B</td>\n",
       "      <td>A</td>\n",
       "      <td>A</td>\n",
       "      <td>B</td>\n",
       "      <td>A</td>\n",
       "      <td>A</td>\n",
       "      <td>A</td>\n",
       "      <td>B</td>\n",
       "      <td>...</td>\n",
       "      <td>0.289648</td>\n",
       "      <td>0.315545</td>\n",
       "      <td>0.27320</td>\n",
       "      <td>0.26076</td>\n",
       "      <td>0.32446</td>\n",
       "      <td>0.381398</td>\n",
       "      <td>0.373424</td>\n",
       "      <td>0.195709</td>\n",
       "      <td>0.774425</td>\n",
       "      <td>3005.09</td>\n",
       "    </tr>\n",
       "    <tr>\n",
       "      <th>3</th>\n",
       "      <td>10</td>\n",
       "      <td>B</td>\n",
       "      <td>B</td>\n",
       "      <td>A</td>\n",
       "      <td>B</td>\n",
       "      <td>A</td>\n",
       "      <td>A</td>\n",
       "      <td>A</td>\n",
       "      <td>A</td>\n",
       "      <td>B</td>\n",
       "      <td>...</td>\n",
       "      <td>0.440945</td>\n",
       "      <td>0.391128</td>\n",
       "      <td>0.31796</td>\n",
       "      <td>0.32128</td>\n",
       "      <td>0.44467</td>\n",
       "      <td>0.327915</td>\n",
       "      <td>0.321570</td>\n",
       "      <td>0.605077</td>\n",
       "      <td>0.602642</td>\n",
       "      <td>939.85</td>\n",
       "    </tr>\n",
       "    <tr>\n",
       "      <th>4</th>\n",
       "      <td>11</td>\n",
       "      <td>A</td>\n",
       "      <td>B</td>\n",
       "      <td>A</td>\n",
       "      <td>B</td>\n",
       "      <td>A</td>\n",
       "      <td>A</td>\n",
       "      <td>A</td>\n",
       "      <td>A</td>\n",
       "      <td>B</td>\n",
       "      <td>...</td>\n",
       "      <td>0.178193</td>\n",
       "      <td>0.247408</td>\n",
       "      <td>0.24564</td>\n",
       "      <td>0.22089</td>\n",
       "      <td>0.21230</td>\n",
       "      <td>0.204687</td>\n",
       "      <td>0.202213</td>\n",
       "      <td>0.246011</td>\n",
       "      <td>0.432606</td>\n",
       "      <td>2763.85</td>\n",
       "    </tr>\n",
       "  </tbody>\n",
       "</table>\n",
       "<p>5 rows × 132 columns</p>\n",
       "</div>"
      ],
      "text/plain": [
       "   id cat1 cat2 cat3 cat4 cat5 cat6 cat7 cat8 cat9   ...        cont6  \\\n",
       "0   1    A    B    A    B    A    A    A    A    B   ...     0.718367   \n",
       "1   2    A    B    A    A    A    A    A    A    B   ...     0.438917   \n",
       "2   5    A    B    A    A    B    A    A    A    B   ...     0.289648   \n",
       "3  10    B    B    A    B    A    A    A    A    B   ...     0.440945   \n",
       "4  11    A    B    A    B    A    A    A    A    B   ...     0.178193   \n",
       "\n",
       "      cont7    cont8    cont9   cont10    cont11    cont12    cont13  \\\n",
       "0  0.335060  0.30260  0.67135  0.83510  0.569745  0.594646  0.822493   \n",
       "1  0.436585  0.60087  0.35127  0.43919  0.338312  0.366307  0.611431   \n",
       "2  0.315545  0.27320  0.26076  0.32446  0.381398  0.373424  0.195709   \n",
       "3  0.391128  0.31796  0.32128  0.44467  0.327915  0.321570  0.605077   \n",
       "4  0.247408  0.24564  0.22089  0.21230  0.204687  0.202213  0.246011   \n",
       "\n",
       "     cont14     loss  \n",
       "0  0.714843  2213.18  \n",
       "1  0.304496  1283.60  \n",
       "2  0.774425  3005.09  \n",
       "3  0.602642   939.85  \n",
       "4  0.432606  2763.85  \n",
       "\n",
       "[5 rows x 132 columns]"
      ]
     },
     "execution_count": 5,
     "metadata": {},
     "output_type": "execute_result"
    }
   ],
   "source": [
    "train_ds.head()"
   ]
  },
  {
   "cell_type": "code",
   "execution_count": 6,
   "metadata": {
    "collapsed": false
   },
   "outputs": [
    {
     "data": {
      "text/html": [
       "<div>\n",
       "<table border=\"1\" class=\"dataframe\">\n",
       "  <thead>\n",
       "    <tr style=\"text-align: right;\">\n",
       "      <th></th>\n",
       "      <th>id</th>\n",
       "      <th>cont1</th>\n",
       "      <th>cont2</th>\n",
       "      <th>cont3</th>\n",
       "      <th>cont4</th>\n",
       "      <th>cont5</th>\n",
       "      <th>cont6</th>\n",
       "      <th>cont7</th>\n",
       "      <th>cont8</th>\n",
       "      <th>cont9</th>\n",
       "      <th>cont10</th>\n",
       "      <th>cont11</th>\n",
       "      <th>cont12</th>\n",
       "      <th>cont13</th>\n",
       "      <th>cont14</th>\n",
       "      <th>loss</th>\n",
       "    </tr>\n",
       "  </thead>\n",
       "  <tbody>\n",
       "    <tr>\n",
       "      <th>count</th>\n",
       "      <td>188318.000000</td>\n",
       "      <td>188318.000000</td>\n",
       "      <td>188318.000000</td>\n",
       "      <td>188318.000000</td>\n",
       "      <td>188318.000000</td>\n",
       "      <td>188318.000000</td>\n",
       "      <td>188318.000000</td>\n",
       "      <td>188318.000000</td>\n",
       "      <td>188318.000000</td>\n",
       "      <td>188318.000000</td>\n",
       "      <td>188318.000000</td>\n",
       "      <td>188318.000000</td>\n",
       "      <td>188318.000000</td>\n",
       "      <td>188318.000000</td>\n",
       "      <td>188318.000000</td>\n",
       "      <td>188318.000000</td>\n",
       "    </tr>\n",
       "    <tr>\n",
       "      <th>mean</th>\n",
       "      <td>294135.982561</td>\n",
       "      <td>0.493861</td>\n",
       "      <td>0.507188</td>\n",
       "      <td>0.498918</td>\n",
       "      <td>0.491812</td>\n",
       "      <td>0.487428</td>\n",
       "      <td>0.490945</td>\n",
       "      <td>0.484970</td>\n",
       "      <td>0.486437</td>\n",
       "      <td>0.485506</td>\n",
       "      <td>0.498066</td>\n",
       "      <td>0.493511</td>\n",
       "      <td>0.493150</td>\n",
       "      <td>0.493138</td>\n",
       "      <td>0.495717</td>\n",
       "      <td>3037.337686</td>\n",
       "    </tr>\n",
       "    <tr>\n",
       "      <th>std</th>\n",
       "      <td>169336.084867</td>\n",
       "      <td>0.187640</td>\n",
       "      <td>0.207202</td>\n",
       "      <td>0.202105</td>\n",
       "      <td>0.211292</td>\n",
       "      <td>0.209027</td>\n",
       "      <td>0.205273</td>\n",
       "      <td>0.178450</td>\n",
       "      <td>0.199370</td>\n",
       "      <td>0.181660</td>\n",
       "      <td>0.185877</td>\n",
       "      <td>0.209737</td>\n",
       "      <td>0.209427</td>\n",
       "      <td>0.212777</td>\n",
       "      <td>0.222488</td>\n",
       "      <td>2904.086186</td>\n",
       "    </tr>\n",
       "    <tr>\n",
       "      <th>min</th>\n",
       "      <td>1.000000</td>\n",
       "      <td>0.000016</td>\n",
       "      <td>0.001149</td>\n",
       "      <td>0.002634</td>\n",
       "      <td>0.176921</td>\n",
       "      <td>0.281143</td>\n",
       "      <td>0.012683</td>\n",
       "      <td>0.069503</td>\n",
       "      <td>0.236880</td>\n",
       "      <td>0.000080</td>\n",
       "      <td>0.000000</td>\n",
       "      <td>0.035321</td>\n",
       "      <td>0.036232</td>\n",
       "      <td>0.000228</td>\n",
       "      <td>0.179722</td>\n",
       "      <td>0.670000</td>\n",
       "    </tr>\n",
       "    <tr>\n",
       "      <th>25%</th>\n",
       "      <td>147748.250000</td>\n",
       "      <td>0.346090</td>\n",
       "      <td>0.358319</td>\n",
       "      <td>0.336963</td>\n",
       "      <td>0.327354</td>\n",
       "      <td>0.281143</td>\n",
       "      <td>0.336105</td>\n",
       "      <td>0.350175</td>\n",
       "      <td>0.312800</td>\n",
       "      <td>0.358970</td>\n",
       "      <td>0.364580</td>\n",
       "      <td>0.310961</td>\n",
       "      <td>0.311661</td>\n",
       "      <td>0.315758</td>\n",
       "      <td>0.294610</td>\n",
       "      <td>1204.460000</td>\n",
       "    </tr>\n",
       "    <tr>\n",
       "      <th>50%</th>\n",
       "      <td>294539.500000</td>\n",
       "      <td>0.475784</td>\n",
       "      <td>0.555782</td>\n",
       "      <td>0.527991</td>\n",
       "      <td>0.452887</td>\n",
       "      <td>0.422268</td>\n",
       "      <td>0.440945</td>\n",
       "      <td>0.438285</td>\n",
       "      <td>0.441060</td>\n",
       "      <td>0.441450</td>\n",
       "      <td>0.461190</td>\n",
       "      <td>0.457203</td>\n",
       "      <td>0.462286</td>\n",
       "      <td>0.363547</td>\n",
       "      <td>0.407403</td>\n",
       "      <td>2115.570000</td>\n",
       "    </tr>\n",
       "    <tr>\n",
       "      <th>75%</th>\n",
       "      <td>440680.500000</td>\n",
       "      <td>0.623912</td>\n",
       "      <td>0.681761</td>\n",
       "      <td>0.634224</td>\n",
       "      <td>0.652072</td>\n",
       "      <td>0.643315</td>\n",
       "      <td>0.655021</td>\n",
       "      <td>0.591045</td>\n",
       "      <td>0.623580</td>\n",
       "      <td>0.566820</td>\n",
       "      <td>0.614590</td>\n",
       "      <td>0.678924</td>\n",
       "      <td>0.675759</td>\n",
       "      <td>0.689974</td>\n",
       "      <td>0.724623</td>\n",
       "      <td>3864.045000</td>\n",
       "    </tr>\n",
       "    <tr>\n",
       "      <th>max</th>\n",
       "      <td>587633.000000</td>\n",
       "      <td>0.984975</td>\n",
       "      <td>0.862654</td>\n",
       "      <td>0.944251</td>\n",
       "      <td>0.954297</td>\n",
       "      <td>0.983674</td>\n",
       "      <td>0.997162</td>\n",
       "      <td>1.000000</td>\n",
       "      <td>0.980200</td>\n",
       "      <td>0.995400</td>\n",
       "      <td>0.994980</td>\n",
       "      <td>0.998742</td>\n",
       "      <td>0.998484</td>\n",
       "      <td>0.988494</td>\n",
       "      <td>0.844848</td>\n",
       "      <td>121012.250000</td>\n",
       "    </tr>\n",
       "  </tbody>\n",
       "</table>\n",
       "</div>"
      ],
      "text/plain": [
       "                  id          cont1          cont2          cont3  \\\n",
       "count  188318.000000  188318.000000  188318.000000  188318.000000   \n",
       "mean   294135.982561       0.493861       0.507188       0.498918   \n",
       "std    169336.084867       0.187640       0.207202       0.202105   \n",
       "min         1.000000       0.000016       0.001149       0.002634   \n",
       "25%    147748.250000       0.346090       0.358319       0.336963   \n",
       "50%    294539.500000       0.475784       0.555782       0.527991   \n",
       "75%    440680.500000       0.623912       0.681761       0.634224   \n",
       "max    587633.000000       0.984975       0.862654       0.944251   \n",
       "\n",
       "               cont4          cont5          cont6          cont7  \\\n",
       "count  188318.000000  188318.000000  188318.000000  188318.000000   \n",
       "mean        0.491812       0.487428       0.490945       0.484970   \n",
       "std         0.211292       0.209027       0.205273       0.178450   \n",
       "min         0.176921       0.281143       0.012683       0.069503   \n",
       "25%         0.327354       0.281143       0.336105       0.350175   \n",
       "50%         0.452887       0.422268       0.440945       0.438285   \n",
       "75%         0.652072       0.643315       0.655021       0.591045   \n",
       "max         0.954297       0.983674       0.997162       1.000000   \n",
       "\n",
       "               cont8          cont9         cont10         cont11  \\\n",
       "count  188318.000000  188318.000000  188318.000000  188318.000000   \n",
       "mean        0.486437       0.485506       0.498066       0.493511   \n",
       "std         0.199370       0.181660       0.185877       0.209737   \n",
       "min         0.236880       0.000080       0.000000       0.035321   \n",
       "25%         0.312800       0.358970       0.364580       0.310961   \n",
       "50%         0.441060       0.441450       0.461190       0.457203   \n",
       "75%         0.623580       0.566820       0.614590       0.678924   \n",
       "max         0.980200       0.995400       0.994980       0.998742   \n",
       "\n",
       "              cont12         cont13         cont14           loss  \n",
       "count  188318.000000  188318.000000  188318.000000  188318.000000  \n",
       "mean        0.493150       0.493138       0.495717    3037.337686  \n",
       "std         0.209427       0.212777       0.222488    2904.086186  \n",
       "min         0.036232       0.000228       0.179722       0.670000  \n",
       "25%         0.311661       0.315758       0.294610    1204.460000  \n",
       "50%         0.462286       0.363547       0.407403    2115.570000  \n",
       "75%         0.675759       0.689974       0.724623    3864.045000  \n",
       "max         0.998484       0.988494       0.844848  121012.250000  "
      ]
     },
     "execution_count": 6,
     "metadata": {},
     "output_type": "execute_result"
    }
   ],
   "source": [
    "train_ds.describe()"
   ]
  },
  {
   "cell_type": "markdown",
   "metadata": {},
   "source": [
    "Now that we have Loaded the data, let's take a look at the distribution.  We will take the log loss to get a cleaner distribution."
   ]
  },
  {
   "cell_type": "code",
   "execution_count": 7,
   "metadata": {
    "collapsed": false
   },
   "outputs": [
    {
     "data": {
      "text/plain": [
       "[(4, 12)]"
      ]
     },
     "execution_count": 7,
     "metadata": {},
     "output_type": "execute_result"
    },
    {
     "data": {
      "image/png": "[encoded data removed]",
      "text/plain": [
       "<matplotlib.figure.Figure at 0x1027090d0>"
      ]
     },
     "metadata": {},
     "output_type": "display_data"
    }
   ],
   "source": [
    "nl_losses = np.array(train_ds['loss'])\n",
    "losses = np.log(nl_losses)\n",
    "hist = sns.distplot(losses)\n",
    "hist.set(xlim=(4,12))"
   ]
  },
  {
   "cell_type": "markdown",
   "metadata": {},
   "source": [
    "There a a few outliers and a large percentage of the data is less than losses of 20,000"
   ]
  },
  {
   "cell_type": "code",
   "execution_count": 8,
   "metadata": {
    "collapsed": false
   },
   "outputs": [
    {
     "name": "stdout",
     "output_type": "stream",
     "text": [
      "438\n",
      "0.0023258530783\n"
     ]
    }
   ],
   "source": [
    "threshold = 20000\n",
    "print len(train_ds[train_ds.loss>threshold])\n",
    "print len(train_ds[train_ds.loss>threshold])/float(train_ds.shape[0])"
   ]
  },
  {
   "cell_type": "code",
   "execution_count": 9,
   "metadata": {
    "collapsed": false
   },
   "outputs": [
    {
     "name": "stdout",
     "output_type": "stream",
     "text": [
      "id          int64\n",
      "cat1       object\n",
      "cat2       object\n",
      "cat3       object\n",
      "cat4       object\n",
      "cat5       object\n",
      "cat6       object\n",
      "cat7       object\n",
      "cat8       object\n",
      "cat9       object\n",
      "cat10      object\n",
      "cat11      object\n",
      "cat12      object\n",
      "cat13      object\n",
      "cat14      object\n",
      "cat15      object\n",
      "cat16      object\n",
      "cat17      object\n",
      "cat18      object\n",
      "cat19      object\n",
      "cat20      object\n",
      "cat21      object\n",
      "cat22      object\n",
      "cat23      object\n",
      "cat24      object\n",
      "cat25      object\n",
      "cat26      object\n",
      "cat27      object\n",
      "cat28      object\n",
      "cat29      object\n",
      "           ...   \n",
      "cat102     object\n",
      "cat103     object\n",
      "cat104     object\n",
      "cat105     object\n",
      "cat106     object\n",
      "cat107     object\n",
      "cat108     object\n",
      "cat109     object\n",
      "cat110     object\n",
      "cat111     object\n",
      "cat112     object\n",
      "cat113     object\n",
      "cat114     object\n",
      "cat115     object\n",
      "cat116     object\n",
      "cont1     float64\n",
      "cont2     float64\n",
      "cont3     float64\n",
      "cont4     float64\n",
      "cont5     float64\n",
      "cont6     float64\n",
      "cont7     float64\n",
      "cont8     float64\n",
      "cont9     float64\n",
      "cont10    float64\n",
      "cont11    float64\n",
      "cont12    float64\n",
      "cont13    float64\n",
      "cont14    float64\n",
      "loss      float64\n",
      "dtype: object\n"
     ]
    }
   ],
   "source": [
    "print train_ds.dtypes"
   ]
  },
  {
   "cell_type": "code",
   "execution_count": 10,
   "metadata": {
    "collapsed": false
   },
   "outputs": [
    {
     "name": "stdout",
     "output_type": "stream",
     "text": [
      "           cont1     cont2     cont3     cont4     cont5     cont6     cont7  \\\n",
      "cont1   1.000000 -0.085180 -0.445431  0.367549 -0.025230  0.758315  0.367384   \n",
      "cont2  -0.085180  1.000000  0.455861  0.038693  0.191427  0.015864  0.048187   \n",
      "cont3  -0.445431  0.455861  1.000000 -0.341633  0.089417 -0.349278  0.097516   \n",
      "cont4   0.367549  0.038693 -0.341633  1.000000  0.163748  0.220932 -0.115064   \n",
      "cont5  -0.025230  0.191427  0.089417  0.163748  1.000000 -0.149810 -0.249344   \n",
      "cont6   0.758315  0.015864 -0.349278  0.220932 -0.149810  1.000000  0.658918   \n",
      "cont7   0.367384  0.048187  0.097516 -0.115064 -0.249344  0.658918  1.000000   \n",
      "cont8   0.361163  0.137468 -0.185432  0.528740  0.009015  0.437437  0.142042   \n",
      "cont9   0.929912 -0.032729 -0.417054  0.328961 -0.088202  0.797544  0.384343   \n",
      "cont10  0.808551  0.063526 -0.325562  0.283294 -0.064967  0.883351  0.492621   \n",
      "cont11  0.596090  0.116824  0.025271  0.120927 -0.151548  0.773745  0.747108   \n",
      "cont12  0.614225  0.106250  0.006111  0.130453 -0.148217  0.785144  0.742712   \n",
      "cont13  0.534850  0.023335 -0.418203  0.179342 -0.082915  0.815091  0.288395   \n",
      "cont14  0.056688 -0.045584 -0.039592  0.017445 -0.021638  0.042178  0.022286   \n",
      "loss   -0.010237  0.141528  0.111053 -0.035831 -0.011355  0.040967  0.119799   \n",
      "\n",
      "           cont8     cont9    cont10    cont11    cont12    cont13    cont14  \\\n",
      "cont1   0.361163  0.929912  0.808551  0.596090  0.614225  0.534850  0.056688   \n",
      "cont2   0.137468 -0.032729  0.063526  0.116824  0.106250  0.023335 -0.045584   \n",
      "cont3  -0.185432 -0.417054 -0.325562  0.025271  0.006111 -0.418203 -0.039592   \n",
      "cont4   0.528740  0.328961  0.283294  0.120927  0.130453  0.179342  0.017445   \n",
      "cont5   0.009015 -0.088202 -0.064967 -0.151548 -0.148217 -0.082915 -0.021638   \n",
      "cont6   0.437437  0.797544  0.883351  0.773745  0.785144  0.815091  0.042178   \n",
      "cont7   0.142042  0.384343  0.492621  0.747108  0.742712  0.288395  0.022286   \n",
      "cont8   1.000000  0.452658  0.336588  0.302381  0.315904  0.476402  0.043539   \n",
      "cont9   0.452658  1.000000  0.785697  0.608000  0.626656  0.642028  0.074154   \n",
      "cont10  0.336588  0.785697  1.000000  0.702896  0.713812  0.707876  0.041808   \n",
      "cont11  0.302381  0.608000  0.702896  1.000000  0.994384  0.466247  0.047293   \n",
      "cont12  0.315904  0.626656  0.713812  0.994384  1.000000  0.478677  0.050267   \n",
      "cont13  0.476402  0.642028  0.707876  0.466247  0.478677  1.000000  0.047543   \n",
      "cont14  0.043539  0.074154  0.041808  0.047293  0.050267  0.047543  1.000000   \n",
      "loss    0.030508  0.014456  0.020236  0.099806  0.098724 -0.004022  0.019298   \n",
      "\n",
      "            loss  \n",
      "cont1  -0.010237  \n",
      "cont2   0.141528  \n",
      "cont3   0.111053  \n",
      "cont4  -0.035831  \n",
      "cont5  -0.011355  \n",
      "cont6   0.040967  \n",
      "cont7   0.119799  \n",
      "cont8   0.030508  \n",
      "cont9   0.014456  \n",
      "cont10  0.020236  \n",
      "cont11  0.099806  \n",
      "cont12  0.098724  \n",
      "cont13 -0.004022  \n",
      "cont14  0.019298  \n",
      "loss    1.000000  \n"
     ]
    }
   ],
   "source": [
    "correlations = train_ds.select_dtypes(include=['float64']).corr()\n",
    "print correlations"
   ]
  },
  {
   "cell_type": "code",
   "execution_count": 11,
   "metadata": {
    "collapsed": false
   },
   "outputs": [
    {
     "data": {
      "text/plain": [
       "<matplotlib.axes._subplots.AxesSubplot at 0x110efaed0>"
      ]
     },
     "execution_count": 11,
     "metadata": {},
     "output_type": "execute_result"
    },
    {
     "data": {
      "image/png": "[encoded data removed]",
      "text/plain": [
       "<matplotlib.figure.Figure at 0x110eea910>"
      ]
     },
     "metadata": {},
     "output_type": "display_data"
    }
   ],
   "source": [
    "plt.figure(figsize=(12,12))\n",
    "sns.heatmap(correlations, annot=True)"
   ]
  },
  {
   "cell_type": "markdown",
   "metadata": {},
   "source": [
    "The loss does not seem to be heavily correlated with any continuous variable.  There are a number of categorical variables and a smaller number of continuous variables.  We will change the categorical variables into standardized variables now.  We need to combine the train and test sets to do this, or else the pandas factorize() method will produce different numerical values for the same categories in the two data sets."
   ]
  },
  {
   "cell_type": "code",
   "execution_count": 12,
   "metadata": {
    "collapsed": false
   },
   "outputs": [],
   "source": [
    "train_ds.drop(['id', 'loss'], axis=1, inplace=True)\n",
    "test_ds.drop(['id'], axis=1, inplace=True)\n",
    "\n",
    "cols = train_ds.columns\n",
    "comb_ds = pd.concat((train_ds, test_ds)).reset_index(drop=True)\n",
    "cat_cols  = [col for col in cols if 'cat' in col]\n",
    "\n",
    "try:\n",
    "    for cat_col in cat_cols:\n",
    "        comb_ds[cat_col] = pd.factorize(comb_ds[cat_col])[0]\n",
    "except ValueError,e:\n",
    "    print ValueError, e, cat_col\n",
    "\n",
    "train_ds = comb_ds.iloc[:n_train,:]\n",
    "test_ds = comb_ds.iloc[n_train:,:]"
   ]
  },
  {
   "cell_type": "code",
   "execution_count": 13,
   "metadata": {
    "collapsed": true
   },
   "outputs": [],
   "source": [
    "train_arr = np.array(train_ds)\n",
    "test_arr = np.array(test_ds)\n",
    "\n",
    "n_folds = 4\n",
    "kf = KFold(n_train, n_folds = n_folds, shuffle=True, random_state=442)\n",
    "kf_arr = list()\n",
    "\n",
    "for i in range(4):\n",
    "    kf_arr.append(KFold(n_train, n_folds = n_folds, shuffle=True, random_state=442+i**3))"
   ]
  },
  {
   "cell_type": "markdown",
   "metadata": {},
   "source": [
    "# Training"
   ]
  },
  {
   "cell_type": "code",
   "execution_count": 37,
   "metadata": {
    "collapsed": false
   },
   "outputs": [],
   "source": [
    "# Credit to https://www.kaggle.com/mmueller/allstate-claims-severity/stacking-starter/run/390867 for the following two wrapper class ideas\n",
    "\n",
    "class XGBoostWrapper(object):\n",
    "    \"\"\" This is a wrapper class to an xgboost object. \n",
    "    It will be used to train on datasets and predict.\n",
    "    \"\"\"\n",
    "    \n",
    "    def __init__(self, params, seed = 332):\n",
    "        params['random_state'] = seed\n",
    "        self.params = params\n",
    "        self.seed = seed\n",
    "        \n",
    "    def train(self, X, Y, num_rounds=130):\n",
    "        train_data = xgb.DMatrix(X, label = Y)\n",
    "        self.model = xgb.train(self.params, train_data, num_rounds)\n",
    "    \n",
    "    def predict(self, X):\n",
    "        return self.model.predict(xgb.DMatrix(X))\n",
    "\n",
    "class SKLearnWrapper(object):\n",
    "    \"\"\" This is a wrapper class for sklearn regressors. \n",
    "    The methods are standardized to be the same as the XGBoostWRapper methods.\n",
    "    \"\"\"\n",
    "    \n",
    "    def __init__(self, clf, params, seed = 232):\n",
    "        params['random_state'] = seed\n",
    "        self.clf = clf(**params)\n",
    "        self.params = params\n",
    "    \n",
    "    def train(self, X, Y):\n",
    "        self.clf.fit(X,Y)\n",
    "    \n",
    "    def predict(self, X):\n",
    "        return self.clf.predict(X) \n",
    "\n",
    "def get_activations(clf):\n",
    "    \"\"\" This is a function to get the training set and testing set predictions.\n",
    "    There are n_folds number of test dataset predictions made, which are summed together later.\n",
    "    We use KFold validation methods to make predictions on the entire training set (from n_fold segements)\n",
    "    \"\"\"\n",
    "    \n",
    "    train_preds = np.zeros((n_train,))\n",
    "    test_preds = np.zeros((n_folds,n_test))\n",
    "    \n",
    "    for i, (train_idx, test_idx) in enumerate(kf):\n",
    "        clf.train(train_arr[train_idx], losses[train_idx])\n",
    "        train_preds[test_idx] = clf.predict(train_arr[test_idx])\n",
    "        test_preds[i,:] = clf.predict(test_arr)\n",
    "    \n",
    "    return train_preds.reshape(-1,1), test_preds.mean(axis=0).reshape(-1,1)\n",
    "\n",
    "def get_activations_mult(clf):\n",
    "    \"\"\" This is a function to get multiple predictions of the training set.\n",
    "    It is similar to the get_activations function above, but does it multiple times.\n",
    "    It also prints the mean absolute error for each fold\n",
    "    \"\"\"\n",
    "    \n",
    "    train_preds = np.zeros((n_train,len(kf_arr)))\n",
    "    test_preds = np.zeros((n_folds,n_test))\n",
    "    \n",
    "    for k, kf_i in enumerate(kf_arr):\n",
    "        for i, (train_idx, test_idx) in enumerate(kf_i):\n",
    "            clf.train(train_arr[train_idx], losses[train_idx])\n",
    "            train_preds[test_idx,k] = clf.predict(train_arr[test_idx])\n",
    "        print(\"XG-CV {} : {}\".format(k,mean_absolute_error(np.exp(losses), np.exp(train_preds[:,k].reshape(-1,1)))))\n",
    "    return train_preds\n",
    "\n",
    "        "
   ]
  },
  {
   "cell_type": "code",
   "execution_count": 38,
   "metadata": {
    "collapsed": false
   },
   "outputs": [
    {
     "name": "stdout",
     "output_type": "stream",
     "text": [
      "XG-CV 0 : 1153.27817561\n",
      "XG-CV 1 : 1153.04837936\n",
      "XG-CV 2 : 1153.38745423\n",
      "XG-CV 3 : 1152.56067013\n",
      "XG-CV cumulative : 1147.1098709\n"
     ]
    }
   ],
   "source": [
    "params = {'max_depth':7, \n",
    "          'eta':.1, \n",
    "          'objective':'reg:linear', \n",
    "          'eval_metric': 'mae',\n",
    "          'min_child_weight': 4.2,\n",
    "          'subsample': .99,\n",
    "          'gamma': .5,\n",
    "          'colsample_bytree': .6\n",
    "         }\n",
    "\n",
    "xgbw = XGBoostWrapper(params)\n",
    "xgba = get_activations_mult(xgbw)\n",
    "print(\"XG-CV cumulative : {}\".format(mean_absolute_error(np.exp(losses), np.exp(xgba.mean(axis=1)))))"
   ]
  },
  {
   "cell_type": "code",
   "execution_count": 41,
   "metadata": {
    "collapsed": false
   },
   "outputs": [
    {
     "name": "stdout",
     "output_type": "stream",
     "text": [
      "XG-CV cumulative : 1153.27817561\n"
     ]
    }
   ],
   "source": [
    "xgba, xgbta = get_activations(xgbw)\n",
    "print(\"XG-CV cumulative : {}\".format(mean_absolute_error(np.exp(losses), np.exp(xgba))))"
   ]
  },
  {
   "cell_type": "code",
   "execution_count": 43,
   "metadata": {
    "collapsed": false
   },
   "outputs": [
    {
     "name": "stdout",
     "output_type": "stream",
     "text": [
      "[0]\ttrain-mae:6.46694+0.000892348\ttest-mae:6.46696+0.00277452\n",
      "[10]\ttrain-mae:2.25718+0.000325657\ttest-mae:2.25727+0.00213869\n",
      "[20]\ttrain-mae:0.839782+0.000246233\ttest-mae:0.841516+0.00125498\n",
      "[30]\ttrain-mae:0.498373+0.000645369\ttest-mae:0.503467+0.000204586\n",
      "[40]\ttrain-mae:0.437278+0.000629773\ttest-mae:0.444876+0.000676408\n",
      "[50]\ttrain-mae:0.422636+0.000722276\ttest-mae:0.43232+0.00100264\n",
      "[60]\ttrain-mae:0.416084+0.00076574\ttest-mae:0.427442+0.00100368\n",
      "[70]\ttrain-mae:0.411817+0.000833518\ttest-mae:0.424893+0.00111243\n",
      "[80]\ttrain-mae:0.40839+0.000900657\ttest-mae:0.423082+0.00115967\n",
      "[90]\ttrain-mae:0.405736+0.000791224\ttest-mae:0.421809+0.00117405\n",
      "[100]\ttrain-mae:0.403236+0.000790801\ttest-mae:0.420804+0.00116746\n",
      "[110]\ttrain-mae:0.400997+0.000767406\ttest-mae:0.419943+0.00121147\n",
      "[120]\ttrain-mae:0.399108+0.000603616\ttest-mae:0.4193+0.00127583\n",
      "[130]\ttrain-mae:0.397176+0.000600395\ttest-mae:0.418766+0.00125309\n",
      "[140]\ttrain-mae:0.395568+0.000606545\ttest-mae:0.418436+0.0012505\n",
      "[150]\ttrain-mae:0.394015+0.000660857\ttest-mae:0.418142+0.00130002\n",
      "[160]\ttrain-mae:0.392484+0.000514784\ttest-mae:0.417821+0.00133875\n",
      "[170]\ttrain-mae:0.391253+0.000585662\ttest-mae:0.417603+0.00128551\n",
      "[180]\ttrain-mae:0.389969+0.000598148\ttest-mae:0.417399+0.00129087\n",
      "[190]\ttrain-mae:0.388687+0.000543761\ttest-mae:0.417202+0.00129708\n",
      "[200]\ttrain-mae:0.387456+0.000667276\ttest-mae:0.417014+0.00128872\n",
      "[210]\ttrain-mae:0.386239+0.000592038\ttest-mae:0.416915+0.00131512\n",
      "[220]\ttrain-mae:0.385074+0.000509201\ttest-mae:0.416825+0.00132453\n",
      "[230]\ttrain-mae:0.38393+0.000541203\ttest-mae:0.416676+0.00132811\n",
      "[240]\ttrain-mae:0.382882+0.000622716\ttest-mae:0.416582+0.0013556\n",
      "[250]\ttrain-mae:0.381807+0.000616254\ttest-mae:0.416514+0.00134658\n",
      "[260]\ttrain-mae:0.380788+0.000603436\ttest-mae:0.416448+0.00133212\n",
      "[270]\ttrain-mae:0.37979+0.000616833\ttest-mae:0.4164+0.00130451\n",
      "[280]\ttrain-mae:0.378836+0.000645272\ttest-mae:0.416349+0.00129752\n",
      "[290]\ttrain-mae:0.377857+0.000616695\ttest-mae:0.416363+0.00126477\n",
      "[300]\ttrain-mae:0.37695+0.000669893\ttest-mae:0.41635+0.00125782\n",
      "[310]\ttrain-mae:0.375913+0.000696296\ttest-mae:0.416315+0.00125391\n",
      "[320]\ttrain-mae:0.37492+0.000790341\ttest-mae:0.416263+0.00125075\n",
      "[330]\ttrain-mae:0.374018+0.00076746\ttest-mae:0.416216+0.00125435\n",
      "[340]\ttrain-mae:0.373057+0.000761071\ttest-mae:0.416175+0.00123396\n",
      "[350]\ttrain-mae:0.372121+0.000831851\ttest-mae:0.416146+0.00121086\n",
      "[360]\ttrain-mae:0.371186+0.000849967\ttest-mae:0.4161+0.00121584\n",
      "[370]\ttrain-mae:0.370306+0.000812644\ttest-mae:0.416106+0.0012004\n",
      "[380]\ttrain-mae:0.369494+0.000705759\ttest-mae:0.416122+0.00118385\n",
      "[390]\ttrain-mae:0.368469+0.000777146\ttest-mae:0.416099+0.00121279\n",
      "[400]\ttrain-mae:0.367691+0.000784905\ttest-mae:0.416086+0.00122538\n",
      "[410]\ttrain-mae:0.366849+0.000786557\ttest-mae:0.416077+0.0012461\n",
      "[420]\ttrain-mae:0.366086+0.000771652\ttest-mae:0.416096+0.0012387\n",
      "[430]\ttrain-mae:0.365235+0.000758565\ttest-mae:0.41608+0.00124898\n",
      "[440]\ttrain-mae:0.364353+0.000758223\ttest-mae:0.416096+0.00125563\n",
      "[450]\ttrain-mae:0.363464+0.000754638\ttest-mae:0.416141+0.00125825\n"
     ]
    }
   ],
   "source": [
    "# XGBoost cross validation method to help find the best parameters for xgboost\n",
    "dtrain = xgb.DMatrix(train_ds, label=losses)\n",
    "res = xgb.cv(params, dtrain, num_boost_round=500, nfold=4, seed=21, stratified=False,\n",
    "             early_stopping_rounds=30, verbose_eval=10, show_stdv=True)"
   ]
  },
  {
   "cell_type": "code",
   "execution_count": 44,
   "metadata": {
    "collapsed": false
   },
   "outputs": [],
   "source": [
    "# Split dataset to test hypotheses before submitting on test set\n",
    "x_train, x_test, y_train, y_test = train_test_split(train_ds, losses, test_size=0.15, random_state=29)"
   ]
  },
  {
   "cell_type": "code",
   "execution_count": 45,
   "metadata": {
    "collapsed": false
   },
   "outputs": [],
   "source": [
    "def kf_train(num_kf, t_ds, targets, n_folds, num_rounds, params):\n",
    "    \"\"\"Function to train num_kf kfold instances.  Used to blend booster predictions\"\"\"\n",
    "    \n",
    "    targets = np.array(targets)\n",
    "    kf_arr = list()\n",
    "    for i in range(num_kf):\n",
    "        kf_arr.append(KFold(len(t_ds), n_folds = n_folds, shuffle=True, random_state=(int(random.random()*100000))))\n",
    "        \n",
    "    kf = KFold(n_train, n_folds = n_folds, shuffle=True, random_state=442)\n",
    "    \n",
    "    bst_arr = list()\n",
    "    for k, kf_i in enumerate(kf_arr):\n",
    "        for i, (train_idx, test_idx) in enumerate(kf_i):\n",
    "            dtrain = xgb.DMatrix(t_ds.iloc[train_idx], label=targets[train_idx])\n",
    "            booster = xgb.train(params, dtrain, num_rounds)\n",
    "            dtest = xgb.DMatrix(t_ds.iloc[test_idx])\n",
    "            ypred = booster.predict(dtest)\n",
    "            print(\"Predictions received score: {}\".format(mean_absolute_error(np.exp(losses[test_idx]), np.exp(ypred))))\n",
    "            bst_arr.append(booster)\n",
    "            print 'finished ' + str(i+1) + 'th iteration'\n",
    "    return bst_arr\n",
    "\n",
    "def test_bsts(saved_bsts, targets):\n",
    "    \"\"\"Generates predictions on targets from array of saved_bsts\"\"\"\n",
    "    \n",
    "    dtest = xgb.DMatrix(targets)\n",
    "    ypred_arr = np.ndarray((len(targets),len(saved_bsts)))\n",
    "    for i,bst in enumerate(saved_bsts): \n",
    "        ypred_arr[:,i] = bst.predict(dtest)\n",
    "    ypred = ypred_arr.mean(axis=1)\n",
    "    return ypred"
   ]
  },
  {
   "cell_type": "code",
   "execution_count": 46,
   "metadata": {
    "collapsed": true
   },
   "outputs": [],
   "source": [
    "def log_it(params, num_kf, kfolds, n_rounds, score, note=' no note'):\n",
    "    \"\"\"Function to log parameters for validation predictions\"\"\"\n",
    "    f = open('kf_output.txt', 'a')\n",
    "    f.write('**NEW**/n')\n",
    "    f.write('\\n')\n",
    "    f.write('num_kf: ' + str(num_kf))\n",
    "    f.write('\\nkfolds: ' + str(kfolds))\n",
    "    f.write('\\nn_rounds: ' + str(n_rounds))\n",
    "    f.write('\\n')\n",
    "    f.write(str(params))\n",
    "    f.write('\\n')\n",
    "    f.write('SCORE: ' + str(score))\n",
    "    f.write('\\n')\n",
    "    f.write('note: '+ note)\n",
    "    f.write('\\n')"
   ]
  },
  {
   "cell_type": "code",
   "execution_count": 47,
   "metadata": {
    "collapsed": false
   },
   "outputs": [
    {
     "name": "stdout",
     "output_type": "stream",
     "text": [
      "Predictions received score: 2297.68121331\n",
      "finished 1th iteration\n",
      "Predictions received score: 2325.75343858\n",
      "finished 2th iteration\n",
      "Predictions received score: 2298.66327782\n",
      "finished 3th iteration\n",
      "Predictions received score: 2293.8841569\n",
      "finished 4th iteration\n",
      "Predictions received score: 2327.71280892\n",
      "finished 5th iteration\n",
      "Final value is: 1159.19377013\n"
     ]
    }
   ],
   "source": [
    "params = {'max_depth':7, \n",
    "          'eta':.12, \n",
    "          'silent': 1,\n",
    "          'objective':'reg:linear', \n",
    "          'eval_metric': 'mae',\n",
    "          'min_child_weight': 4.2,\n",
    "          'subsample': .99,\n",
    "          'gamma': .5,\n",
    "          'colsample_bytree': .6\n",
    "         }\n",
    "\n",
    "num_kf = 1\n",
    "kfolds = 5\n",
    "n_rounds = 150\n",
    "\n",
    "bst_arr = kf_train(num_kf, x_train, y_train, kfolds, n_rounds, params)\n",
    "ypred = test_bsts(bst_arr, x_test)\n",
    "fin = mean_absolute_error(np.exp(y_test), np.exp(ypred))\n",
    "print(\"Final value is: {}\".format(str(fin)))\n",
    "log_it(params, num_kf, kfolds, n_rounds,fin)"
   ]
  },
  {
   "cell_type": "code",
   "execution_count": 48,
   "metadata": {
    "collapsed": false
   },
   "outputs": [
    {
     "name": "stdout",
     "output_type": "stream",
     "text": [
      "XG-CV: 1153.27817561\n"
     ]
    }
   ],
   "source": [
    "print(\"XG-CV: {}\".format(mean_absolute_error(np.exp(losses), np.exp(xgba))))"
   ]
  },
  {
   "cell_type": "code",
   "execution_count": 49,
   "metadata": {
    "collapsed": false
   },
   "outputs": [
    {
     "name": "stdout",
     "output_type": "stream",
     "text": [
      "Predictions received score: 1145.90801142\n",
      "finished 1th iteration\n",
      "Predictions received score: 1139.19444354\n",
      "finished 2th iteration\n",
      "Predictions received score: 1136.34788945\n",
      "finished 3th iteration\n",
      "Predictions received score: 1150.30493631\n",
      "finished 4th iteration\n",
      "Predictions received score: 1140.38767606\n",
      "finished 5th iteration\n",
      "Done with one iteration\n"
     ]
    }
   ],
   "source": [
    "params = {'max_depth':7, \n",
    "          'eta':.05, \n",
    "          'silent': 1,\n",
    "          'objective':'reg:linear', \n",
    "          'eval_metric': 'mae',\n",
    "          'min_child_weight': 4.2,\n",
    "          'subsample': .99,\n",
    "          'gamma': .5,\n",
    "          'colsample_bytree': .6\n",
    "         }\n",
    "\n",
    "num_kf = 1\n",
    "kfolds = 5\n",
    "n_rounds = 600\n",
    "\n",
    "bst_arr52 = kf_train(num_kf, train_ds, losses, kfolds, n_rounds, params)\n",
    "ypred52 = test_bsts(bst_arr52, test_ds)\n",
    "print(\"Done with one iteration\")"
   ]
  },
  {
   "cell_type": "code",
   "execution_count": 50,
   "metadata": {
    "collapsed": false
   },
   "outputs": [],
   "source": [
    "# Remnants of a stacking solution...\n",
    "#train_activations = np.concatenate((xgba, nna, etra), axis=1)\n",
    "#test_activations = np.concatenate((xgbta, nnta, etrta), axis=1)\n",
    "#dtrain = xgb.DMatrix(train_ds, label=losses)"
   ]
  },
  {
   "cell_type": "code",
   "execution_count": 51,
   "metadata": {
    "collapsed": false
   },
   "outputs": [],
   "source": [
    "#best_nrounds = res.shape[0] - 1\n",
    "#dtrain1 = xgb.DMatrix(train_activations, label=losses)\n",
    "#bst = xgb.train(params, dtrain, 700)\n",
    "#xgb.plot_importance(bst)"
   ]
  },
  {
   "cell_type": "markdown",
   "metadata": {},
   "source": [
    "# Predictions and Submission"
   ]
  },
  {
   "cell_type": "code",
   "execution_count": 52,
   "metadata": {
    "collapsed": false
   },
   "outputs": [],
   "source": [
    "fin_arrs = bst_arr52 # add the other boosters here for an aggregate booster"
   ]
  },
  {
   "cell_type": "code",
   "execution_count": 53,
   "metadata": {
    "collapsed": false
   },
   "outputs": [],
   "source": [
    "ypred = test_bsts(fin_arrs, test_ds)"
   ]
  },
  {
   "cell_type": "code",
   "execution_count": 54,
   "metadata": {
    "collapsed": false
   },
   "outputs": [],
   "source": [
    "sub_file = pd.read_csv('sample_submission.csv')\n",
    "sub_file.iloc[:,1] = np.exp(ypred)\n",
    "now = datetime.datetime.now().strftime(\"%d-%m-%y--%H:%M\")\n",
    "sub_file.to_csv('submissions/my_submission' + now + '.csv', index=None)"
   ]
  },
  {
   "cell_type": "code",
   "execution_count": 56,
   "metadata": {
    "collapsed": false
   },
   "outputs": [
    {
     "name": "stdout",
     "output_type": "stream",
     "text": [
      "(125546,)\n"
     ]
    }
   ],
   "source": [
    "print ypred.shape"
   ]
  },
  {
   "cell_type": "code",
   "execution_count": null,
   "metadata": {
    "collapsed": true
   },
   "outputs": [],
   "source": []
  }
 ],
 "metadata": {
  "anaconda-cloud": {},
  "kernelspec": {
   "display_name": "Python [nanodegree]",
   "language": "python",
   "name": "Python [nanodegree]"
  },
  "language_info": {
   "codemirror_mode": {
    "name": "ipython",
    "version": 2
   },
   "file_extension": ".py",
   "mimetype": "text/x-python",
   "name": "python",
   "nbconvert_exporter": "python",
   "pygments_lexer": "ipython2",
   "version": "2.7.12"
  }
 },
 "nbformat": 4,
 "nbformat_minor": 0
}
