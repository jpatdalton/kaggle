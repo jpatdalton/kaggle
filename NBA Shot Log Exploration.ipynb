{
 "cells": [
  {
   "cell_type": "markdown",
   "metadata": {},
   "source": [
    "# Preprocessing and Exploration"
   ]
  },
  {
   "cell_type": "code",
   "execution_count": 1,
   "metadata": {
    "collapsed": false
   },
   "outputs": [
    {
     "name": "stderr",
     "output_type": "stream",
     "text": [
      "//anaconda/envs/nanodegree/lib/python2.7/site-packages/matplotlib/font_manager.py:273: UserWarning: Matplotlib is building the font cache using fc-list. This may take a moment.\n",
      "  warnings.warn('Matplotlib is building the font cache using fc-list. This may take a moment.')\n"
     ]
    }
   ],
   "source": [
    "%matplotlib inline\n",
    "import pandas as pd\n",
    "import numpy as np\n",
    "import matplotlib.pyplot as plt\n",
    "import seaborn as sns\n",
    "import random\n",
    "import datetime\n",
    "import re"
   ]
  },
  {
   "cell_type": "code",
   "execution_count": 2,
   "metadata": {
    "collapsed": false
   },
   "outputs": [],
   "source": [
    "shots_ds = pd.read_csv('shot_logs.csv')"
   ]
  },
  {
   "cell_type": "code",
   "execution_count": 3,
   "metadata": {
    "collapsed": false
   },
   "outputs": [
    {
     "data": {
      "text/plain": [
       "Index([u'GAME_ID', u'MATCHUP', u'LOCATION', u'W', u'FINAL_MARGIN',\n",
       "       u'SHOT_NUMBER', u'PERIOD', u'GAME_CLOCK', u'SHOT_CLOCK', u'DRIBBLES',\n",
       "       u'TOUCH_TIME', u'SHOT_DIST', u'PTS_TYPE', u'SHOT_RESULT',\n",
       "       u'CLOSEST_DEFENDER', u'CLOSEST_DEFENDER_PLAYER_ID', u'CLOSE_DEF_DIST',\n",
       "       u'FGM', u'PTS', u'player_name', u'player_id'],\n",
       "      dtype='object')"
      ]
     },
     "execution_count": 3,
     "metadata": {},
     "output_type": "execute_result"
    }
   ],
   "source": [
    "shots_ds.columns"
   ]
  },
  {
   "cell_type": "code",
   "execution_count": 4,
   "metadata": {
    "collapsed": false
   },
   "outputs": [
    {
     "data": {
      "text/plain": [
       "GAME_ID                         int64\n",
       "MATCHUP                        object\n",
       "LOCATION                       object\n",
       "W                              object\n",
       "FINAL_MARGIN                    int64\n",
       "SHOT_NUMBER                     int64\n",
       "PERIOD                          int64\n",
       "GAME_CLOCK                     object\n",
       "SHOT_CLOCK                    float64\n",
       "DRIBBLES                        int64\n",
       "TOUCH_TIME                    float64\n",
       "SHOT_DIST                     float64\n",
       "PTS_TYPE                        int64\n",
       "SHOT_RESULT                    object\n",
       "CLOSEST_DEFENDER               object\n",
       "CLOSEST_DEFENDER_PLAYER_ID      int64\n",
       "CLOSE_DEF_DIST                float64\n",
       "FGM                             int64\n",
       "PTS                             int64\n",
       "player_name                    object\n",
       "player_id                       int64\n",
       "dtype: object"
      ]
     },
     "execution_count": 4,
     "metadata": {},
     "output_type": "execute_result"
    }
   ],
   "source": [
    "shots_ds.dtypes"
   ]
  },
  {
   "cell_type": "code",
   "execution_count": 5,
   "metadata": {
    "collapsed": false
   },
   "outputs": [
    {
     "data": {
      "text/html": [
       "<div>\n",
       "<table border=\"1\" class=\"dataframe\">\n",
       "  <thead>\n",
       "    <tr style=\"text-align: right;\">\n",
       "      <th></th>\n",
       "      <th>GAME_ID</th>\n",
       "      <th>MATCHUP</th>\n",
       "      <th>LOCATION</th>\n",
       "      <th>W</th>\n",
       "      <th>FINAL_MARGIN</th>\n",
       "      <th>SHOT_NUMBER</th>\n",
       "      <th>PERIOD</th>\n",
       "      <th>GAME_CLOCK</th>\n",
       "      <th>SHOT_CLOCK</th>\n",
       "      <th>DRIBBLES</th>\n",
       "      <th>...</th>\n",
       "      <th>SHOT_DIST</th>\n",
       "      <th>PTS_TYPE</th>\n",
       "      <th>SHOT_RESULT</th>\n",
       "      <th>CLOSEST_DEFENDER</th>\n",
       "      <th>CLOSEST_DEFENDER_PLAYER_ID</th>\n",
       "      <th>CLOSE_DEF_DIST</th>\n",
       "      <th>FGM</th>\n",
       "      <th>PTS</th>\n",
       "      <th>player_name</th>\n",
       "      <th>player_id</th>\n",
       "    </tr>\n",
       "  </thead>\n",
       "  <tbody>\n",
       "    <tr>\n",
       "      <th>0</th>\n",
       "      <td>21400899</td>\n",
       "      <td>MAR 04, 2015 - CHA @ BKN</td>\n",
       "      <td>A</td>\n",
       "      <td>W</td>\n",
       "      <td>24</td>\n",
       "      <td>1</td>\n",
       "      <td>1</td>\n",
       "      <td>1:09</td>\n",
       "      <td>10.8</td>\n",
       "      <td>2</td>\n",
       "      <td>...</td>\n",
       "      <td>7.7</td>\n",
       "      <td>2</td>\n",
       "      <td>made</td>\n",
       "      <td>Anderson, Alan</td>\n",
       "      <td>101187</td>\n",
       "      <td>1.3</td>\n",
       "      <td>1</td>\n",
       "      <td>2</td>\n",
       "      <td>brian roberts</td>\n",
       "      <td>203148</td>\n",
       "    </tr>\n",
       "    <tr>\n",
       "      <th>1</th>\n",
       "      <td>21400899</td>\n",
       "      <td>MAR 04, 2015 - CHA @ BKN</td>\n",
       "      <td>A</td>\n",
       "      <td>W</td>\n",
       "      <td>24</td>\n",
       "      <td>2</td>\n",
       "      <td>1</td>\n",
       "      <td>0:14</td>\n",
       "      <td>3.4</td>\n",
       "      <td>0</td>\n",
       "      <td>...</td>\n",
       "      <td>28.2</td>\n",
       "      <td>3</td>\n",
       "      <td>missed</td>\n",
       "      <td>Bogdanovic, Bojan</td>\n",
       "      <td>202711</td>\n",
       "      <td>6.1</td>\n",
       "      <td>0</td>\n",
       "      <td>0</td>\n",
       "      <td>brian roberts</td>\n",
       "      <td>203148</td>\n",
       "    </tr>\n",
       "    <tr>\n",
       "      <th>2</th>\n",
       "      <td>21400899</td>\n",
       "      <td>MAR 04, 2015 - CHA @ BKN</td>\n",
       "      <td>A</td>\n",
       "      <td>W</td>\n",
       "      <td>24</td>\n",
       "      <td>3</td>\n",
       "      <td>1</td>\n",
       "      <td>0:00</td>\n",
       "      <td>NaN</td>\n",
       "      <td>3</td>\n",
       "      <td>...</td>\n",
       "      <td>10.1</td>\n",
       "      <td>2</td>\n",
       "      <td>missed</td>\n",
       "      <td>Bogdanovic, Bojan</td>\n",
       "      <td>202711</td>\n",
       "      <td>0.9</td>\n",
       "      <td>0</td>\n",
       "      <td>0</td>\n",
       "      <td>brian roberts</td>\n",
       "      <td>203148</td>\n",
       "    </tr>\n",
       "    <tr>\n",
       "      <th>3</th>\n",
       "      <td>21400899</td>\n",
       "      <td>MAR 04, 2015 - CHA @ BKN</td>\n",
       "      <td>A</td>\n",
       "      <td>W</td>\n",
       "      <td>24</td>\n",
       "      <td>4</td>\n",
       "      <td>2</td>\n",
       "      <td>11:47</td>\n",
       "      <td>10.3</td>\n",
       "      <td>2</td>\n",
       "      <td>...</td>\n",
       "      <td>17.2</td>\n",
       "      <td>2</td>\n",
       "      <td>missed</td>\n",
       "      <td>Brown, Markel</td>\n",
       "      <td>203900</td>\n",
       "      <td>3.4</td>\n",
       "      <td>0</td>\n",
       "      <td>0</td>\n",
       "      <td>brian roberts</td>\n",
       "      <td>203148</td>\n",
       "    </tr>\n",
       "    <tr>\n",
       "      <th>4</th>\n",
       "      <td>21400899</td>\n",
       "      <td>MAR 04, 2015 - CHA @ BKN</td>\n",
       "      <td>A</td>\n",
       "      <td>W</td>\n",
       "      <td>24</td>\n",
       "      <td>5</td>\n",
       "      <td>2</td>\n",
       "      <td>10:34</td>\n",
       "      <td>10.9</td>\n",
       "      <td>2</td>\n",
       "      <td>...</td>\n",
       "      <td>3.7</td>\n",
       "      <td>2</td>\n",
       "      <td>missed</td>\n",
       "      <td>Young, Thaddeus</td>\n",
       "      <td>201152</td>\n",
       "      <td>1.1</td>\n",
       "      <td>0</td>\n",
       "      <td>0</td>\n",
       "      <td>brian roberts</td>\n",
       "      <td>203148</td>\n",
       "    </tr>\n",
       "  </tbody>\n",
       "</table>\n",
       "<p>5 rows × 21 columns</p>\n",
       "</div>"
      ],
      "text/plain": [
       "    GAME_ID                   MATCHUP LOCATION  W  FINAL_MARGIN  SHOT_NUMBER  \\\n",
       "0  21400899  MAR 04, 2015 - CHA @ BKN        A  W            24            1   \n",
       "1  21400899  MAR 04, 2015 - CHA @ BKN        A  W            24            2   \n",
       "2  21400899  MAR 04, 2015 - CHA @ BKN        A  W            24            3   \n",
       "3  21400899  MAR 04, 2015 - CHA @ BKN        A  W            24            4   \n",
       "4  21400899  MAR 04, 2015 - CHA @ BKN        A  W            24            5   \n",
       "\n",
       "   PERIOD GAME_CLOCK  SHOT_CLOCK  DRIBBLES    ...     SHOT_DIST  PTS_TYPE  \\\n",
       "0       1       1:09        10.8         2    ...           7.7         2   \n",
       "1       1       0:14         3.4         0    ...          28.2         3   \n",
       "2       1       0:00         NaN         3    ...          10.1         2   \n",
       "3       2      11:47        10.3         2    ...          17.2         2   \n",
       "4       2      10:34        10.9         2    ...           3.7         2   \n",
       "\n",
       "   SHOT_RESULT   CLOSEST_DEFENDER CLOSEST_DEFENDER_PLAYER_ID  CLOSE_DEF_DIST  \\\n",
       "0         made     Anderson, Alan                     101187             1.3   \n",
       "1       missed  Bogdanovic, Bojan                     202711             6.1   \n",
       "2       missed  Bogdanovic, Bojan                     202711             0.9   \n",
       "3       missed      Brown, Markel                     203900             3.4   \n",
       "4       missed    Young, Thaddeus                     201152             1.1   \n",
       "\n",
       "   FGM  PTS    player_name player_id  \n",
       "0    1    2  brian roberts    203148  \n",
       "1    0    0  brian roberts    203148  \n",
       "2    0    0  brian roberts    203148  \n",
       "3    0    0  brian roberts    203148  \n",
       "4    0    0  brian roberts    203148  \n",
       "\n",
       "[5 rows x 21 columns]"
      ]
     },
     "execution_count": 5,
     "metadata": {},
     "output_type": "execute_result"
    }
   ],
   "source": [
    "shots_ds.head()"
   ]
  },
  {
   "cell_type": "code",
   "execution_count": 6,
   "metadata": {
    "collapsed": false
   },
   "outputs": [
    {
     "data": {
      "text/plain": [
       "GAME_ID                       False\n",
       "MATCHUP                       False\n",
       "LOCATION                      False\n",
       "W                             False\n",
       "FINAL_MARGIN                  False\n",
       "SHOT_NUMBER                   False\n",
       "PERIOD                        False\n",
       "GAME_CLOCK                    False\n",
       "SHOT_CLOCK                     True\n",
       "DRIBBLES                      False\n",
       "TOUCH_TIME                    False\n",
       "SHOT_DIST                     False\n",
       "PTS_TYPE                      False\n",
       "SHOT_RESULT                   False\n",
       "CLOSEST_DEFENDER              False\n",
       "CLOSEST_DEFENDER_PLAYER_ID    False\n",
       "CLOSE_DEF_DIST                False\n",
       "FGM                           False\n",
       "PTS                           False\n",
       "player_name                   False\n",
       "player_id                     False\n",
       "dtype: bool"
      ]
     },
     "execution_count": 6,
     "metadata": {},
     "output_type": "execute_result"
    }
   ],
   "source": [
    "pd.isnull(shots_ds).any()"
   ]
  },
  {
   "cell_type": "code",
   "execution_count": 7,
   "metadata": {
    "collapsed": false
   },
   "outputs": [
    {
     "data": {
      "text/plain": [
       "(128069, 21)"
      ]
     },
     "execution_count": 7,
     "metadata": {},
     "output_type": "execute_result"
    }
   ],
   "source": [
    "shots_ds.shape"
   ]
  },
  {
   "cell_type": "code",
   "execution_count": 8,
   "metadata": {
    "collapsed": false
   },
   "outputs": [
    {
     "name": "stdout",
     "output_type": "stream",
     "text": [
      "['made' 'missed']\n",
      "[1 0]\n"
     ]
    }
   ],
   "source": [
    "# The following two columns represent the same thing so we will drop the SHOT_RESULT column\n",
    "print shots_ds.SHOT_RESULT.unique()\n",
    "print shots_ds.FGM.unique()"
   ]
  },
  {
   "cell_type": "code",
   "execution_count": 9,
   "metadata": {
    "collapsed": true
   },
   "outputs": [],
   "source": [
    "shots_ds.drop('SHOT_RESULT', axis=1, inplace=True)"
   ]
  },
  {
   "cell_type": "code",
   "execution_count": 10,
   "metadata": {
    "collapsed": true
   },
   "outputs": [],
   "source": [
    "splits = lambda x: pd.Series([i for i in re.split(' - | @ | vs. ', x)])"
   ]
  },
  {
   "cell_type": "code",
   "execution_count": 11,
   "metadata": {
    "collapsed": false
   },
   "outputs": [],
   "source": [
    "res = shots_ds['MATCHUP'].apply(splits)"
   ]
  },
  {
   "cell_type": "code",
   "execution_count": 12,
   "metadata": {
    "collapsed": false
   },
   "outputs": [],
   "source": [
    "shots_ds['date'], shots_ds['away'], shots_ds['home'] = res[0], res[1], res[2]"
   ]
  },
  {
   "cell_type": "code",
   "execution_count": 13,
   "metadata": {
    "collapsed": false
   },
   "outputs": [
    {
     "name": "stdout",
     "output_type": "stream",
     "text": [
      "['ATL', 'BKN', 'BOS', 'CHA', 'CHI', 'CLE', 'DAL', 'DEN', 'DET', 'GSW', 'HOU', 'IND', 'LAC', 'LAL', 'MEM', 'MIA', 'MIL', 'MIN', 'NOP', 'NYK', 'OKC', 'ORL', 'PHI', 'PHX', 'POR', 'SAC', 'SAS', 'TOR', 'UTA', 'WAS'] ['ATL', 'BKN', 'BOS', 'CHA', 'CHI', 'CLE', 'DAL', 'DEN', 'DET', 'GSW', 'HOU', 'IND', 'LAC', 'LAL', 'MEM', 'MIA', 'MIL', 'MIN', 'NOP', 'NYK', 'OKC', 'ORL', 'PHI', 'PHX', 'POR', 'SAC', 'SAS', 'TOR', 'UTA', 'WAS']\n"
     ]
    }
   ],
   "source": [
    "print sorted(shots_ds.away.unique()), sorted(shots_ds.home.unique())\n",
    "assert len(shots_ds.away) == len(shots_ds.home)"
   ]
  },
  {
   "cell_type": "code",
   "execution_count": 14,
   "metadata": {
    "collapsed": true
   },
   "outputs": [],
   "source": [
    "# Now that we have split up MATCHUP we can drop this column\n",
    "shots_ds.drop('MATCHUP', axis=1, inplace=True)"
   ]
  },
  {
   "cell_type": "markdown",
   "metadata": {},
   "source": [
    "# Defense Analysis\n",
    "\n",
    "Some things to investigate:\n",
    "\n",
    "- Who did people shoot around the most\n",
    "- Who had the best/worst shots made % within x distance\n",
    "- Who had the best/worst shots made by being closest defender\n",
    "    - Wing vs interior?\n",
    "- Who had best ratio of minutes played to being closest defender to shot\n",
    "- Who had the worst ration of minutes played to being closest defender to a shot\n"
   ]
  },
  {
   "cell_type": "code",
   "execution_count": 15,
   "metadata": {
    "collapsed": false
   },
   "outputs": [
    {
     "name": "stdout",
     "output_type": "stream",
     "text": [
      "281 474\n"
     ]
    }
   ],
   "source": [
    "# More defenders than shot takers recorded..\n",
    "print len(shots_ds.player_id.unique()), len(shots_ds.CLOSEST_DEFENDER_PLAYER_ID.unique())"
   ]
  },
  {
   "cell_type": "code",
   "execution_count": 16,
   "metadata": {
    "collapsed": true
   },
   "outputs": [],
   "source": [
    "players_ds = pd.DataFrame(list(set(shots_ds['CLOSEST_DEFENDER_PLAYER_ID'])))"
   ]
  },
  {
   "cell_type": "markdown",
   "metadata": {},
   "source": [
    "We can see that people shoot around Big Men the most.  This makes sense because a lot of shots are from drives to the hoop and these people are rim protectors.  They have to deal with drives to the hoop by players they aren't defending, in addition to post up moves from the players they are actually defending.  One should note that being the closest defender to a shot may also show the player's ability to get close to shooters (agility)."
   ]
  },
  {
   "cell_type": "code",
   "execution_count": 17,
   "metadata": {
    "collapsed": true
   },
   "outputs": [],
   "source": [
    "defender_df = pd.concat([shots_ds['CLOSEST_DEFENDER_PLAYER_ID'], shots_ds['CLOSEST_DEFENDER']], axis=1, keys=['PLAYER_ID', 'PLAYER'])\n",
    "defender_df = defender_df.drop_duplicates()"
   ]
  },
  {
   "cell_type": "code",
   "execution_count": 18,
   "metadata": {
    "collapsed": false
   },
   "outputs": [],
   "source": [
    "t_df = shots_ds.groupby('CLOSEST_DEFENDER_PLAYER_ID').count()[['GAME_ID']]\n",
    "t_df.reset_index(level=0, inplace=True)\n",
    "t_df.rename(columns={'CLOSEST_DEFENDER_PLAYER_ID':'PLAYER_ID', 'GAME_ID':'SHOTS_DEFENDED'}, inplace=True)\n",
    "defender_df = defender_df.merge(t_df, on='PLAYER_ID')"
   ]
  },
  {
   "cell_type": "code",
   "execution_count": 19,
   "metadata": {
    "collapsed": false
   },
   "outputs": [],
   "source": [
    "t_df = shots_ds.groupby('CLOSEST_DEFENDER_PLAYER_ID').sum()[['DRIBBLES', 'TOUCH_TIME', 'SHOT_DIST', 'CLOSE_DEF_DIST', 'FGM', 'PTS']]\n",
    "t_df.reset_index(level=0, inplace=True)\n",
    "t_df.rename(columns={'CLOSEST_DEFENDER_PLAYER_ID':'PLAYER_ID', 'FGM':'SHOTS_DEFENDED_MADE'}, inplace=True)\n",
    "defender_df = defender_df.merge(t_df, on='PLAYER_ID')"
   ]
  },
  {
   "cell_type": "code",
   "execution_count": 20,
   "metadata": {
    "collapsed": false
   },
   "outputs": [],
   "source": [
    "# Calculate column percentages\n",
    "defender_df['FG%'] = defender_df['SHOTS_DEFENDED_MADE']/defender_df['SHOTS_DEFENDED']\n",
    "defender_df['AVG_DRIBBLES'] = defender_df['DRIBBLES']/defender_df['SHOTS_DEFENDED']\n",
    "defender_df['AVG_SHOT_DIST'] = defender_df['SHOT_DIST']/defender_df['SHOTS_DEFENDED']\n",
    "defender_df['AVG_CLOSE_DEF_DIST'] = defender_df['CLOSE_DEF_DIST']/defender_df['SHOTS_DEFENDED']\n",
    "defender_df['AVG_PTS'] = defender_df['PTS']/defender_df['SHOTS_DEFENDED']\n",
    "defender_df['AVG_TOUCH_TIME'] = defender_df['TOUCH_TIME']/defender_df['SHOTS_DEFENDED']"
   ]
  },
  {
   "cell_type": "code",
   "execution_count": 25,
   "metadata": {
    "collapsed": false
   },
   "outputs": [],
   "source": [
    "# We only really care about defenders with a decent number of shots against them\n",
    "defender_dfs = defender_df[defender_df.SHOTS_DEFENDED > 200]"
   ]
  },
  {
   "cell_type": "code",
   "execution_count": 27,
   "metadata": {
    "collapsed": false
   },
   "outputs": [
    {
     "data": {
      "text/plain": [
       "Index([u'PLAYER_ID', u'PLAYER', u'SHOTS_DEFENDED', u'DRIBBLES', u'TOUCH_TIME',\n",
       "       u'SHOT_DIST', u'CLOSE_DEF_DIST', u'SHOTS_DEFENDED_MADE', u'PTS', u'%FG',\n",
       "       u'AVG_DRIBBLES', u'AVG_SHOT_DIST', u'AVG_CLOSE_DEF_DIST', u'AVG_PTS',\n",
       "       u'AVG_TOUCH_TIME'],\n",
       "      dtype='object')"
      ]
     },
     "execution_count": 27,
     "metadata": {},
     "output_type": "execute_result"
    }
   ],
   "source": [
    "defender_dfs.columns"
   ]
  },
  {
   "cell_type": "code",
   "execution_count": 55,
   "metadata": {
    "collapsed": false
   },
   "outputs": [
    {
     "data": {
      "text/html": [
       "<div>\n",
       "<table border=\"1\" class=\"dataframe\">\n",
       "  <thead>\n",
       "    <tr style=\"text-align: right;\">\n",
       "      <th></th>\n",
       "      <th>PLAYER_ID</th>\n",
       "      <th>PLAYER</th>\n",
       "      <th>SHOTS_DEFENDED</th>\n",
       "      <th>DRIBBLES</th>\n",
       "      <th>TOUCH_TIME</th>\n",
       "      <th>SHOT_DIST</th>\n",
       "      <th>CLOSE_DEF_DIST</th>\n",
       "      <th>SHOTS_DEFENDED_MADE</th>\n",
       "      <th>PTS</th>\n",
       "      <th>%FG</th>\n",
       "      <th>AVG_DRIBBLES</th>\n",
       "      <th>AVG_SHOT_DIST</th>\n",
       "      <th>AVG_CLOSE_DEF_DIST</th>\n",
       "      <th>AVG_PTS</th>\n",
       "      <th>AVG_TOUCH_TIME</th>\n",
       "    </tr>\n",
       "  </thead>\n",
       "  <tbody>\n",
       "    <tr>\n",
       "      <th>124</th>\n",
       "      <td>201952</td>\n",
       "      <td>Teague, Jeff</td>\n",
       "      <td>423</td>\n",
       "      <td>1067</td>\n",
       "      <td>1297.5</td>\n",
       "      <td>7654.5</td>\n",
       "      <td>1888.6</td>\n",
       "      <td>169</td>\n",
       "      <td>399</td>\n",
       "      <td>0.399527</td>\n",
       "      <td>2.522459</td>\n",
       "      <td>18.095745</td>\n",
       "      <td>4.464775</td>\n",
       "      <td>0.943262</td>\n",
       "      <td>3.067376</td>\n",
       "    </tr>\n",
       "    <tr>\n",
       "      <th>141</th>\n",
       "      <td>2037</td>\n",
       "      <td>Crawford, Jamal</td>\n",
       "      <td>267</td>\n",
       "      <td>506</td>\n",
       "      <td>652.1</td>\n",
       "      <td>4811.2</td>\n",
       "      <td>1357.6</td>\n",
       "      <td>122</td>\n",
       "      <td>285</td>\n",
       "      <td>0.456929</td>\n",
       "      <td>1.895131</td>\n",
       "      <td>18.019476</td>\n",
       "      <td>5.084644</td>\n",
       "      <td>1.067416</td>\n",
       "      <td>2.442322</td>\n",
       "    </tr>\n",
       "    <tr>\n",
       "      <th>199</th>\n",
       "      <td>2747</td>\n",
       "      <td>Smith, J.R.</td>\n",
       "      <td>335</td>\n",
       "      <td>410</td>\n",
       "      <td>672.4</td>\n",
       "      <td>5993.6</td>\n",
       "      <td>1736.9</td>\n",
       "      <td>142</td>\n",
       "      <td>340</td>\n",
       "      <td>0.423881</td>\n",
       "      <td>1.223881</td>\n",
       "      <td>17.891343</td>\n",
       "      <td>5.184776</td>\n",
       "      <td>1.014925</td>\n",
       "      <td>2.007164</td>\n",
       "    </tr>\n",
       "    <tr>\n",
       "      <th>8</th>\n",
       "      <td>201961</td>\n",
       "      <td>Ellington, Wayne</td>\n",
       "      <td>319</td>\n",
       "      <td>677</td>\n",
       "      <td>938.2</td>\n",
       "      <td>5664.6</td>\n",
       "      <td>1417.6</td>\n",
       "      <td>132</td>\n",
       "      <td>313</td>\n",
       "      <td>0.413793</td>\n",
       "      <td>2.122257</td>\n",
       "      <td>17.757367</td>\n",
       "      <td>4.443887</td>\n",
       "      <td>0.981191</td>\n",
       "      <td>2.941066</td>\n",
       "    </tr>\n",
       "    <tr>\n",
       "      <th>161</th>\n",
       "      <td>203471</td>\n",
       "      <td>Schroder, Dennis</td>\n",
       "      <td>242</td>\n",
       "      <td>585</td>\n",
       "      <td>718.5</td>\n",
       "      <td>4284.0</td>\n",
       "      <td>1019.5</td>\n",
       "      <td>118</td>\n",
       "      <td>282</td>\n",
       "      <td>0.487603</td>\n",
       "      <td>2.417355</td>\n",
       "      <td>17.702479</td>\n",
       "      <td>4.212810</td>\n",
       "      <td>1.165289</td>\n",
       "      <td>2.969008</td>\n",
       "    </tr>\n",
       "    <tr>\n",
       "      <th>361</th>\n",
       "      <td>201945</td>\n",
       "      <td>Henderson, Gerald</td>\n",
       "      <td>408</td>\n",
       "      <td>766</td>\n",
       "      <td>1065.0</td>\n",
       "      <td>7216.1</td>\n",
       "      <td>1869.8</td>\n",
       "      <td>170</td>\n",
       "      <td>396</td>\n",
       "      <td>0.416667</td>\n",
       "      <td>1.877451</td>\n",
       "      <td>17.686520</td>\n",
       "      <td>4.582843</td>\n",
       "      <td>0.970588</td>\n",
       "      <td>2.610294</td>\n",
       "    </tr>\n",
       "    <tr>\n",
       "      <th>266</th>\n",
       "      <td>200757</td>\n",
       "      <td>Sefolosha, Thabo</td>\n",
       "      <td>234</td>\n",
       "      <td>416</td>\n",
       "      <td>600.5</td>\n",
       "      <td>4086.7</td>\n",
       "      <td>1021.9</td>\n",
       "      <td>92</td>\n",
       "      <td>224</td>\n",
       "      <td>0.393162</td>\n",
       "      <td>1.777778</td>\n",
       "      <td>17.464530</td>\n",
       "      <td>4.367094</td>\n",
       "      <td>0.957265</td>\n",
       "      <td>2.566239</td>\n",
       "    </tr>\n",
       "    <tr>\n",
       "      <th>296</th>\n",
       "      <td>2749</td>\n",
       "      <td>Nelson, Jameer</td>\n",
       "      <td>303</td>\n",
       "      <td>830</td>\n",
       "      <td>970.5</td>\n",
       "      <td>5226.9</td>\n",
       "      <td>1295.0</td>\n",
       "      <td>145</td>\n",
       "      <td>335</td>\n",
       "      <td>0.478548</td>\n",
       "      <td>2.739274</td>\n",
       "      <td>17.250495</td>\n",
       "      <td>4.273927</td>\n",
       "      <td>1.105611</td>\n",
       "      <td>3.202970</td>\n",
       "    </tr>\n",
       "    <tr>\n",
       "      <th>318</th>\n",
       "      <td>101145</td>\n",
       "      <td>Ellis, Monta</td>\n",
       "      <td>563</td>\n",
       "      <td>1079</td>\n",
       "      <td>1503.2</td>\n",
       "      <td>9650.0</td>\n",
       "      <td>2507.1</td>\n",
       "      <td>226</td>\n",
       "      <td>539</td>\n",
       "      <td>0.401421</td>\n",
       "      <td>1.916519</td>\n",
       "      <td>17.140320</td>\n",
       "      <td>4.453108</td>\n",
       "      <td>0.957371</td>\n",
       "      <td>2.669982</td>\n",
       "    </tr>\n",
       "    <tr>\n",
       "      <th>387</th>\n",
       "      <td>203917</td>\n",
       "      <td>Stauskas, Nik</td>\n",
       "      <td>210</td>\n",
       "      <td>342</td>\n",
       "      <td>500.4</td>\n",
       "      <td>3594.9</td>\n",
       "      <td>897.8</td>\n",
       "      <td>93</td>\n",
       "      <td>220</td>\n",
       "      <td>0.442857</td>\n",
       "      <td>1.628571</td>\n",
       "      <td>17.118571</td>\n",
       "      <td>4.275238</td>\n",
       "      <td>1.047619</td>\n",
       "      <td>2.382857</td>\n",
       "    </tr>\n",
       "    <tr>\n",
       "      <th>147</th>\n",
       "      <td>203894</td>\n",
       "      <td>Napier, Shabazz</td>\n",
       "      <td>247</td>\n",
       "      <td>712</td>\n",
       "      <td>803.6</td>\n",
       "      <td>4226.8</td>\n",
       "      <td>1072.3</td>\n",
       "      <td>124</td>\n",
       "      <td>293</td>\n",
       "      <td>0.502024</td>\n",
       "      <td>2.882591</td>\n",
       "      <td>17.112551</td>\n",
       "      <td>4.341296</td>\n",
       "      <td>1.186235</td>\n",
       "      <td>3.253441</td>\n",
       "    </tr>\n",
       "    <tr>\n",
       "      <th>16</th>\n",
       "      <td>202738</td>\n",
       "      <td>Thomas, Isaiah</td>\n",
       "      <td>316</td>\n",
       "      <td>1167</td>\n",
       "      <td>1283.1</td>\n",
       "      <td>5405.3</td>\n",
       "      <td>1285.7</td>\n",
       "      <td>135</td>\n",
       "      <td>312</td>\n",
       "      <td>0.427215</td>\n",
       "      <td>3.693038</td>\n",
       "      <td>17.105380</td>\n",
       "      <td>4.068671</td>\n",
       "      <td>0.987342</td>\n",
       "      <td>4.060443</td>\n",
       "    </tr>\n",
       "    <tr>\n",
       "      <th>88</th>\n",
       "      <td>203521</td>\n",
       "      <td>Dellavedova, Matthew</td>\n",
       "      <td>267</td>\n",
       "      <td>868</td>\n",
       "      <td>957.1</td>\n",
       "      <td>4561.1</td>\n",
       "      <td>1191.6</td>\n",
       "      <td>112</td>\n",
       "      <td>255</td>\n",
       "      <td>0.419476</td>\n",
       "      <td>3.250936</td>\n",
       "      <td>17.082772</td>\n",
       "      <td>4.462921</td>\n",
       "      <td>0.955056</td>\n",
       "      <td>3.584644</td>\n",
       "    </tr>\n",
       "    <tr>\n",
       "      <th>320</th>\n",
       "      <td>201975</td>\n",
       "      <td>Meeks, Jodie</td>\n",
       "      <td>216</td>\n",
       "      <td>319</td>\n",
       "      <td>457.6</td>\n",
       "      <td>3684.2</td>\n",
       "      <td>875.0</td>\n",
       "      <td>94</td>\n",
       "      <td>223</td>\n",
       "      <td>0.435185</td>\n",
       "      <td>1.476852</td>\n",
       "      <td>17.056481</td>\n",
       "      <td>4.050926</td>\n",
       "      <td>1.032407</td>\n",
       "      <td>2.118519</td>\n",
       "    </tr>\n",
       "    <tr>\n",
       "      <th>251</th>\n",
       "      <td>201584</td>\n",
       "      <td>Lee, Courtney</td>\n",
       "      <td>471</td>\n",
       "      <td>876</td>\n",
       "      <td>1177.9</td>\n",
       "      <td>8033.6</td>\n",
       "      <td>2058.8</td>\n",
       "      <td>209</td>\n",
       "      <td>507</td>\n",
       "      <td>0.443737</td>\n",
       "      <td>1.859873</td>\n",
       "      <td>17.056476</td>\n",
       "      <td>4.371125</td>\n",
       "      <td>1.076433</td>\n",
       "      <td>2.500849</td>\n",
       "    </tr>\n",
       "    <tr>\n",
       "      <th>145</th>\n",
       "      <td>101108</td>\n",
       "      <td>Paul, Chris</td>\n",
       "      <td>507</td>\n",
       "      <td>1082</td>\n",
       "      <td>1387.6</td>\n",
       "      <td>8587.0</td>\n",
       "      <td>2220.7</td>\n",
       "      <td>210</td>\n",
       "      <td>497</td>\n",
       "      <td>0.414201</td>\n",
       "      <td>2.134122</td>\n",
       "      <td>16.936884</td>\n",
       "      <td>4.380079</td>\n",
       "      <td>0.980276</td>\n",
       "      <td>2.736884</td>\n",
       "    </tr>\n",
       "    <tr>\n",
       "      <th>159</th>\n",
       "      <td>101179</td>\n",
       "      <td>Price, Ronnie</td>\n",
       "      <td>246</td>\n",
       "      <td>724</td>\n",
       "      <td>850.1</td>\n",
       "      <td>4156.0</td>\n",
       "      <td>1092.6</td>\n",
       "      <td>118</td>\n",
       "      <td>280</td>\n",
       "      <td>0.479675</td>\n",
       "      <td>2.943089</td>\n",
       "      <td>16.894309</td>\n",
       "      <td>4.441463</td>\n",
       "      <td>1.138211</td>\n",
       "      <td>3.455691</td>\n",
       "    </tr>\n",
       "    <tr>\n",
       "      <th>96</th>\n",
       "      <td>201564</td>\n",
       "      <td>Mayo, O.J.</td>\n",
       "      <td>360</td>\n",
       "      <td>488</td>\n",
       "      <td>724.4</td>\n",
       "      <td>6081.9</td>\n",
       "      <td>1517.1</td>\n",
       "      <td>140</td>\n",
       "      <td>330</td>\n",
       "      <td>0.388889</td>\n",
       "      <td>1.355556</td>\n",
       "      <td>16.894167</td>\n",
       "      <td>4.214167</td>\n",
       "      <td>0.916667</td>\n",
       "      <td>2.012222</td>\n",
       "    </tr>\n",
       "    <tr>\n",
       "      <th>1</th>\n",
       "      <td>202711</td>\n",
       "      <td>Bogdanovic, Bojan</td>\n",
       "      <td>320</td>\n",
       "      <td>682</td>\n",
       "      <td>881.5</td>\n",
       "      <td>5403.6</td>\n",
       "      <td>1313.3</td>\n",
       "      <td>130</td>\n",
       "      <td>307</td>\n",
       "      <td>0.406250</td>\n",
       "      <td>2.131250</td>\n",
       "      <td>16.886250</td>\n",
       "      <td>4.104063</td>\n",
       "      <td>0.959375</td>\n",
       "      <td>2.754687</td>\n",
       "    </tr>\n",
       "    <tr>\n",
       "      <th>4</th>\n",
       "      <td>101114</td>\n",
       "      <td>Williams, Deron</td>\n",
       "      <td>331</td>\n",
       "      <td>712</td>\n",
       "      <td>899.5</td>\n",
       "      <td>5589.0</td>\n",
       "      <td>1466.9</td>\n",
       "      <td>150</td>\n",
       "      <td>349</td>\n",
       "      <td>0.453172</td>\n",
       "      <td>2.151057</td>\n",
       "      <td>16.885196</td>\n",
       "      <td>4.431722</td>\n",
       "      <td>1.054381</td>\n",
       "      <td>2.717523</td>\n",
       "    </tr>\n",
       "  </tbody>\n",
       "</table>\n",
       "</div>"
      ],
      "text/plain": [
       "     PLAYER_ID                PLAYER  SHOTS_DEFENDED  DRIBBLES  TOUCH_TIME  \\\n",
       "124     201952          Teague, Jeff             423      1067      1297.5   \n",
       "141       2037       Crawford, Jamal             267       506       652.1   \n",
       "199       2747           Smith, J.R.             335       410       672.4   \n",
       "8       201961      Ellington, Wayne             319       677       938.2   \n",
       "161     203471      Schroder, Dennis             242       585       718.5   \n",
       "361     201945     Henderson, Gerald             408       766      1065.0   \n",
       "266     200757      Sefolosha, Thabo             234       416       600.5   \n",
       "296       2749        Nelson, Jameer             303       830       970.5   \n",
       "318     101145          Ellis, Monta             563      1079      1503.2   \n",
       "387     203917         Stauskas, Nik             210       342       500.4   \n",
       "147     203894       Napier, Shabazz             247       712       803.6   \n",
       "16      202738        Thomas, Isaiah             316      1167      1283.1   \n",
       "88      203521  Dellavedova, Matthew             267       868       957.1   \n",
       "320     201975          Meeks, Jodie             216       319       457.6   \n",
       "251     201584         Lee, Courtney             471       876      1177.9   \n",
       "145     101108           Paul, Chris             507      1082      1387.6   \n",
       "159     101179         Price, Ronnie             246       724       850.1   \n",
       "96      201564            Mayo, O.J.             360       488       724.4   \n",
       "1       202711     Bogdanovic, Bojan             320       682       881.5   \n",
       "4       101114       Williams, Deron             331       712       899.5   \n",
       "\n",
       "     SHOT_DIST  CLOSE_DEF_DIST  SHOTS_DEFENDED_MADE  PTS       %FG  \\\n",
       "124     7654.5          1888.6                  169  399  0.399527   \n",
       "141     4811.2          1357.6                  122  285  0.456929   \n",
       "199     5993.6          1736.9                  142  340  0.423881   \n",
       "8       5664.6          1417.6                  132  313  0.413793   \n",
       "161     4284.0          1019.5                  118  282  0.487603   \n",
       "361     7216.1          1869.8                  170  396  0.416667   \n",
       "266     4086.7          1021.9                   92  224  0.393162   \n",
       "296     5226.9          1295.0                  145  335  0.478548   \n",
       "318     9650.0          2507.1                  226  539  0.401421   \n",
       "387     3594.9           897.8                   93  220  0.442857   \n",
       "147     4226.8          1072.3                  124  293  0.502024   \n",
       "16      5405.3          1285.7                  135  312  0.427215   \n",
       "88      4561.1          1191.6                  112  255  0.419476   \n",
       "320     3684.2           875.0                   94  223  0.435185   \n",
       "251     8033.6          2058.8                  209  507  0.443737   \n",
       "145     8587.0          2220.7                  210  497  0.414201   \n",
       "159     4156.0          1092.6                  118  280  0.479675   \n",
       "96      6081.9          1517.1                  140  330  0.388889   \n",
       "1       5403.6          1313.3                  130  307  0.406250   \n",
       "4       5589.0          1466.9                  150  349  0.453172   \n",
       "\n",
       "     AVG_DRIBBLES  AVG_SHOT_DIST  AVG_CLOSE_DEF_DIST   AVG_PTS  AVG_TOUCH_TIME  \n",
       "124      2.522459      18.095745            4.464775  0.943262        3.067376  \n",
       "141      1.895131      18.019476            5.084644  1.067416        2.442322  \n",
       "199      1.223881      17.891343            5.184776  1.014925        2.007164  \n",
       "8        2.122257      17.757367            4.443887  0.981191        2.941066  \n",
       "161      2.417355      17.702479            4.212810  1.165289        2.969008  \n",
       "361      1.877451      17.686520            4.582843  0.970588        2.610294  \n",
       "266      1.777778      17.464530            4.367094  0.957265        2.566239  \n",
       "296      2.739274      17.250495            4.273927  1.105611        3.202970  \n",
       "318      1.916519      17.140320            4.453108  0.957371        2.669982  \n",
       "387      1.628571      17.118571            4.275238  1.047619        2.382857  \n",
       "147      2.882591      17.112551            4.341296  1.186235        3.253441  \n",
       "16       3.693038      17.105380            4.068671  0.987342        4.060443  \n",
       "88       3.250936      17.082772            4.462921  0.955056        3.584644  \n",
       "320      1.476852      17.056481            4.050926  1.032407        2.118519  \n",
       "251      1.859873      17.056476            4.371125  1.076433        2.500849  \n",
       "145      2.134122      16.936884            4.380079  0.980276        2.736884  \n",
       "159      2.943089      16.894309            4.441463  1.138211        3.455691  \n",
       "96       1.355556      16.894167            4.214167  0.916667        2.012222  \n",
       "1        2.131250      16.886250            4.104063  0.959375        2.754687  \n",
       "4        2.151057      16.885196            4.431722  1.054381        2.717523  "
      ]
     },
     "execution_count": 55,
     "metadata": {},
     "output_type": "execute_result"
    }
   ],
   "source": [
    "# The worst defenders by average points scored against.. Some pretty big names on here!\n",
    "defender_dfs.sort_values('AVG_PTS', ascending=False)[:20]"
   ]
  },
  {
   "cell_type": "code",
   "execution_count": 53,
   "metadata": {
    "collapsed": false
   },
   "outputs": [
    {
     "data": {
      "text/html": [
       "<div>\n",
       "<table border=\"1\" class=\"dataframe\">\n",
       "  <thead>\n",
       "    <tr style=\"text-align: right;\">\n",
       "      <th></th>\n",
       "      <th>PLAYER_ID</th>\n",
       "      <th>PLAYER</th>\n",
       "      <th>SHOTS_DEFENDED</th>\n",
       "      <th>DRIBBLES</th>\n",
       "      <th>TOUCH_TIME</th>\n",
       "      <th>SHOT_DIST</th>\n",
       "      <th>CLOSE_DEF_DIST</th>\n",
       "      <th>SHOTS_DEFENDED_MADE</th>\n",
       "      <th>PTS</th>\n",
       "      <th>%FG</th>\n",
       "      <th>AVG_DRIBBLES</th>\n",
       "      <th>AVG_SHOT_DIST</th>\n",
       "      <th>AVG_CLOSE_DEF_DIST</th>\n",
       "      <th>AVG_PTS</th>\n",
       "      <th>AVG_TOUCH_TIME</th>\n",
       "    </tr>\n",
       "  </thead>\n",
       "  <tbody>\n",
       "    <tr>\n",
       "      <th>138</th>\n",
       "      <td>203081</td>\n",
       "      <td>Lillard, Damian</td>\n",
       "      <td>579</td>\n",
       "      <td>1868</td>\n",
       "      <td>2118.5</td>\n",
       "      <td>9033.1</td>\n",
       "      <td>2343.6</td>\n",
       "      <td>251</td>\n",
       "      <td>545</td>\n",
       "      <td>0.433506</td>\n",
       "      <td>3.226252</td>\n",
       "      <td>15.601209</td>\n",
       "      <td>4.047668</td>\n",
       "      <td>0.941278</td>\n",
       "      <td>3.658895</td>\n",
       "    </tr>\n",
       "  </tbody>\n",
       "</table>\n",
       "</div>"
      ],
      "text/plain": [
       "     PLAYER_ID           PLAYER  SHOTS_DEFENDED  DRIBBLES  TOUCH_TIME  \\\n",
       "138     203081  Lillard, Damian             579      1868      2118.5   \n",
       "\n",
       "     SHOT_DIST  CLOSE_DEF_DIST  SHOTS_DEFENDED_MADE  PTS       %FG  \\\n",
       "138     9033.1          2343.6                  251  545  0.433506   \n",
       "\n",
       "     AVG_DRIBBLES  AVG_SHOT_DIST  AVG_CLOSE_DEF_DIST   AVG_PTS  AVG_TOUCH_TIME  \n",
       "138      3.226252      15.601209            4.047668  0.941278        3.658895  "
      ]
     },
     "execution_count": 53,
     "metadata": {},
     "output_type": "execute_result"
    }
   ],
   "source": [
    "def get_defensive_stats(player_name):\n",
    "    return defender_dfs[defender_dfs['PLAYER'] == player_name]\n",
    "get_defensive_stats('Lillard, Damian')"
   ]
  },
  {
   "cell_type": "code",
   "execution_count": 34,
   "metadata": {
    "collapsed": false
   },
   "outputs": [],
   "source": [
    "correlations = defender_dfs[['SHOTS_DEFENDED', 'FG%', 'AVG_DRIBBLES', 'AVG_SHOT_DIST', 'AVG_CLOSE_DEF_DIST', 'AVG_PTS', 'AVG_TOUCH_TIME']].corr()"
   ]
  },
  {
   "cell_type": "code",
   "execution_count": 38,
   "metadata": {
    "collapsed": false
   },
   "outputs": [
    {
     "data": {
      "text/plain": [
       "<matplotlib.axes._subplots.AxesSubplot at 0x12252f850>"
      ]
     },
     "execution_count": 38,
     "metadata": {},
     "output_type": "execute_result"
    },
    {
     "data": {
      "image/png": "[encoded data removed]",
      "text/plain": [
       "<matplotlib.figure.Figure at 0x12820de10>"
      ]
     },
     "metadata": {},
     "output_type": "display_data"
    }
   ],
   "source": [
    "plt.figure(figsize=(8,8))\n",
    "sns.heatmap(correlations, annot=True)"
   ]
  },
  {
   "cell_type": "markdown",
   "metadata": {},
   "source": [
    "The above heatmap shows several interesting points.  Some significant insights include:\n",
    " - Worse defenders have a slightly higher chance of a shot being taken on them (shots defended versus FG%)\n",
    "     - This is a broad generalization with a large assumption\n",
    " - The further away the shot is, the less chance of it going in (ok this is obvious)\n",
    " - The more dribbles, the further away the shot is likely to be from the basket\n",
    " - There is no siginificant relation between touch time of the basketball or dribbles and the chance the shot goes in\n",
    "     - Perhaps this is because a lot of dribbles means not a 3 pt shot, so it evens out a little there\n",
    " - More dribbles means a defender was closer to the shot\n",
    " - Further away shots have further away defenders\n",
    " - The further away the shot, the more points are scored (although FG% goes down)\n",
    " - The further away the defender is, the more points scored (although FG% is not correlated with this)\n",
    " - The longer the ball is held by an offensive player, the closer the defender gets for the shot\n",
    " \n",
    "While these are mostly broad generalizations, I believe they still offer some insight to the NBA game."
   ]
  },
  {
   "cell_type": "code",
   "execution_count": 56,
   "metadata": {
    "collapsed": true
   },
   "outputs": [],
   "source": [
    "# Offensive Analysis"
   ]
  },
  {
   "cell_type": "code",
   "execution_count": null,
   "metadata": {
    "collapsed": true
   },
   "outputs": [],
   "source": []
  }
 ],
 "metadata": {
  "kernelspec": {
   "display_name": "Python [nanodegree]",
   "language": "python",
   "name": "Python [nanodegree]"
  },
  "language_info": {
   "codemirror_mode": {
    "name": "ipython",
    "version": 2
   },
   "file_extension": ".py",
   "mimetype": "text/x-python",
   "name": "python",
   "nbconvert_exporter": "python",
   "pygments_lexer": "ipython2",
   "version": "2.7.12"
  }
 },
 "nbformat": 4,
 "nbformat_minor": 0
}
